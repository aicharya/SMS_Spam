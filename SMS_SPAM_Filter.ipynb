{
  "nbformat": 4,
  "nbformat_minor": 0,
  "metadata": {
    "colab": {
      "name": "SMS_SPAM_Filter.ipynb",
      "provenance": [],
      "authorship_tag": "ABX9TyNc7bQYwDS+trTIpT+DqBVO",
      "include_colab_link": true
    },
    "kernelspec": {
      "name": "python3",
      "display_name": "Python 3"
    }
  },
  "cells": [
    {
      "cell_type": "markdown",
      "metadata": {
        "id": "view-in-github",
        "colab_type": "text"
      },
      "source": [
        "<a href=\"https://colab.research.google.com/github/aicharya/SMS_Spam/blob/master/SMS_SPAM_Filter.ipynb\" target=\"_parent\"><img src=\"https://colab.research.google.com/assets/colab-badge.svg\" alt=\"Open In Colab\"/></a>"
      ]
    },
    {
      "cell_type": "code",
      "metadata": {
        "id": "iP4U9exMF-qa",
        "colab_type": "code",
        "colab": {
          "base_uri": "https://localhost:8080/",
          "height": 123
        },
        "outputId": "ec481c3f-4a37-4193-aa6b-c84e2032572f"
      },
      "source": [
        "!git clone https://github.com/aicharya/SMS_Spam"
      ],
      "execution_count": 1,
      "outputs": [
        {
          "output_type": "stream",
          "text": [
            "Cloning into 'SMS_Spam'...\n",
            "remote: Enumerating objects: 13, done.\u001b[K\n",
            "remote: Counting objects:   7% (1/13)\u001b[K\rremote: Counting objects:  15% (2/13)\u001b[K\rremote: Counting objects:  23% (3/13)\u001b[K\rremote: Counting objects:  30% (4/13)\u001b[K\rremote: Counting objects:  38% (5/13)\u001b[K\rremote: Counting objects:  46% (6/13)\u001b[K\rremote: Counting objects:  53% (7/13)\u001b[K\rremote: Counting objects:  61% (8/13)\u001b[K\rremote: Counting objects:  69% (9/13)\u001b[K\rremote: Counting objects:  76% (10/13)\u001b[K\rremote: Counting objects:  84% (11/13)\u001b[K\rremote: Counting objects:  92% (12/13)\u001b[K\rremote: Counting objects: 100% (13/13)\u001b[K\rremote: Counting objects: 100% (13/13), done.\u001b[K\n",
            "remote: Compressing objects:   9% (1/11)\u001b[K\rremote: Compressing objects:  18% (2/11)\u001b[K\rremote: Compressing objects:  27% (3/11)\u001b[K\rremote: Compressing objects:  36% (4/11)\u001b[K\rremote: Compressing objects:  45% (5/11)\u001b[K\rremote: Compressing objects:  54% (6/11)\u001b[K\rremote: Compressing objects:  63% (7/11)\u001b[K\rremote: Compressing objects:  72% (8/11)\u001b[K\rremote: Compressing objects:  81% (9/11)\u001b[K\rremote: Compressing objects:  90% (10/11)\u001b[K\rremote: Compressing objects: 100% (11/11)\u001b[K\rremote: Compressing objects: 100% (11/11), done.\u001b[K\n",
            "remote: Total 13 (delta 3), reused 0 (delta 0), pack-reused 0\u001b[K\n",
            "Unpacking objects: 100% (13/13), done.\n"
          ],
          "name": "stdout"
        }
      ]
    },
    {
      "cell_type": "code",
      "metadata": {
        "id": "uoZ9Br-SGwEe",
        "colab_type": "code",
        "colab": {
          "base_uri": "https://localhost:8080/",
          "height": 52
        },
        "outputId": "38ab77b7-2e96-4fcc-bee6-29136c5724bd"
      },
      "source": [
        "!ls SMS_Spam"
      ],
      "execution_count": 4,
      "outputs": [
        {
          "output_type": "stream",
          "text": [
            "README.md\t\t    SMSspamDataValidationSet.xls  SMS_SPAM_Filter.ipynb\n",
            "SMSspamDataTrainingSet.xls  SMS_Spam_Filter.ipynb\n"
          ],
          "name": "stdout"
        }
      ]
    },
    {
      "cell_type": "code",
      "metadata": {
        "id": "rq7kR45yHAXj",
        "colab_type": "code",
        "colab": {
          "base_uri": "https://localhost:8080/",
          "height": 514
        },
        "outputId": "a3f7953a-ba6d-4cc7-9bc3-8130cac9a60a"
      },
      "source": [
        "import pandas as pd\n",
        "\n",
        "train_df = pd.read_excel('SMS_Spam/SMSspamDataTrainingSet.xls', sheet_name='RapidMiner Data')\n",
        "test_df = pd.read_excel('SMS_Spam/SMSspamDataValidationSet.xls', sheet_name='RapidMiner Data')\n",
        "\n",
        "print( train_df )\n",
        "print( test_df )"
      ],
      "execution_count": 5,
      "outputs": [
        {
          "output_type": "stream",
          "text": [
            "     label                                                SMS\n",
            "0      ham  Go until jurong point, crazy.. Available only ...\n",
            "1      ham  U dun say so early hor... U c already then say...\n",
            "2      ham  Nah I don't think he goes to usf, he lives aro...\n",
            "3     spam  FreeMsg Hey there darling it's been 3 week's n...\n",
            "4      ham  Even my brother is not like to speak with me. ...\n",
            "...    ...                                                ...\n",
            "3897  spam  REMINDER FROM O2: To get 2.50 pounds free call...\n",
            "3898  spam  This is the 2nd time we have tried 2 contact u...\n",
            "3899   ham               Will ü b going to esplanade fr home?\n",
            "3900   ham  Pity, * was in mood for that. So...any other s...\n",
            "3901   ham  The guy did some bitching but I acted like i'd...\n",
            "\n",
            "[3902 rows x 2 columns]\n",
            "     label                                                SMS\n",
            "0      ham  Go until jurong point, crazy.. Available only ...\n",
            "1      ham                      Ok lar... Joking wif u oni...\n",
            "2     spam  Free entry in 2 a wkly comp to win FA Cup fina...\n",
            "3     spam  Had your mobile 11 months or more? U R entitle...\n",
            "4     spam  SIX chances to win CASH! From 100 to 20,000 po...\n",
            "...    ...                                                ...\n",
            "1668   ham  if you aren't here in the next  &lt;#&gt;  hou...\n",
            "1669   ham                  Anything lor. Juz both of us lor.\n",
            "1670   ham  Get me out of this dump heap. My mom decided t...\n",
            "1671   ham                                Ard 6 like dat lor.\n",
            "1672   ham                         Rofl. Its true to its name\n",
            "\n",
            "[1673 rows x 2 columns]\n"
          ],
          "name": "stdout"
        }
      ]
    }
  ]
}