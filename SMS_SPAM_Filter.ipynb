{
  "nbformat": 4,
  "nbformat_minor": 0,
  "metadata": {
    "colab": {
      "name": "SMS_SPAM_Filter.ipynb",
      "provenance": [],
      "authorship_tag": "ABX9TyNbEP9E97hEx4+Jxc8oH1b8",
      "include_colab_link": true
    },
    "kernelspec": {
      "name": "python3",
      "display_name": "Python 3"
    }
  },
  "cells": [
    {
      "cell_type": "markdown",
      "metadata": {
        "id": "view-in-github",
        "colab_type": "text"
      },
      "source": [
        "<a href=\"https://colab.research.google.com/github/aicharya/SMS_Spam/blob/master/SMS_SPAM_Filter.ipynb\" target=\"_parent\"><img src=\"https://colab.research.google.com/assets/colab-badge.svg\" alt=\"Open In Colab\"/></a>"
      ]
    },
    {
      "cell_type": "code",
      "metadata": {
        "id": "iP4U9exMF-qa",
        "colab_type": "code",
        "colab": {
          "base_uri": "https://localhost:8080/",
          "height": 34
        },
        "outputId": "e2fabd34-fbc4-42dd-e00c-2d8b3d8d5b13"
      },
      "source": [
        "!git clone https://github.com/aicharya/SMS_Spam"
      ],
      "execution_count": 11,
      "outputs": [
        {
          "output_type": "stream",
          "text": [
            "fatal: destination path 'SMS_Spam' already exists and is not an empty directory.\n"
          ],
          "name": "stdout"
        }
      ]
    },
    {
      "cell_type": "code",
      "metadata": {
        "id": "uoZ9Br-SGwEe",
        "colab_type": "code",
        "colab": {
          "base_uri": "https://localhost:8080/",
          "height": 52
        },
        "outputId": "3459997f-c3e8-451d-f945-245193f8c36f"
      },
      "source": [
        "!ls SMS_Spam"
      ],
      "execution_count": 12,
      "outputs": [
        {
          "output_type": "stream",
          "text": [
            "README.md\t\t    SMSspamDataValidationSet.xls\n",
            "SMSspamDataTrainingSet.xls  SMS_SPAM_Filter.ipynb\n"
          ],
          "name": "stdout"
        }
      ]
    },
    {
      "cell_type": "code",
      "metadata": {
        "id": "rq7kR45yHAXj",
        "colab_type": "code",
        "colab": {
          "base_uri": "https://localhost:8080/",
          "height": 514
        },
        "outputId": "4cc00306-a059-471a-96e8-4b532280db4f"
      },
      "source": [
        "import pandas as pd\n",
        "\n",
        "train_df = pd.read_excel('SMS_Spam/SMSspamDataTrainingSet.xls', sheet_name='RapidMiner Data')\n",
        "test_df = pd.read_excel('SMS_Spam/SMSspamDataValidationSet.xls', sheet_name='RapidMiner Data')\n",
        "\n",
        "print( train_df )\n",
        "print( test_df )"
      ],
      "execution_count": 42,
      "outputs": [
        {
          "output_type": "stream",
          "text": [
            "     label                                                SMS\n",
            "0      ham  Go until jurong point, crazy.. Available only ...\n",
            "1      ham  U dun say so early hor... U c already then say...\n",
            "2      ham  Nah I don't think he goes to usf, he lives aro...\n",
            "3     spam  FreeMsg Hey there darling it's been 3 week's n...\n",
            "4      ham  Even my brother is not like to speak with me. ...\n",
            "...    ...                                                ...\n",
            "3897  spam  REMINDER FROM O2: To get 2.50 pounds free call...\n",
            "3898  spam  This is the 2nd time we have tried 2 contact u...\n",
            "3899   ham               Will ü b going to esplanade fr home?\n",
            "3900   ham  Pity, * was in mood for that. So...any other s...\n",
            "3901   ham  The guy did some bitching but I acted like i'd...\n",
            "\n",
            "[3902 rows x 2 columns]\n",
            "     label                                                SMS\n",
            "0      ham  Go until jurong point, crazy.. Available only ...\n",
            "1      ham                      Ok lar... Joking wif u oni...\n",
            "2     spam  Free entry in 2 a wkly comp to win FA Cup fina...\n",
            "3     spam  Had your mobile 11 months or more? U R entitle...\n",
            "4     spam  SIX chances to win CASH! From 100 to 20,000 po...\n",
            "...    ...                                                ...\n",
            "1668   ham  if you aren't here in the next  &lt;#&gt;  hou...\n",
            "1669   ham                  Anything lor. Juz both of us lor.\n",
            "1670   ham  Get me out of this dump heap. My mom decided t...\n",
            "1671   ham                                Ard 6 like dat lor.\n",
            "1672   ham                         Rofl. Its true to its name\n",
            "\n",
            "[1673 rows x 2 columns]\n"
          ],
          "name": "stdout"
        }
      ]
    },
    {
      "cell_type": "markdown",
      "metadata": {
        "id": "-FCTCNq-HZLC",
        "colab_type": "text"
      },
      "source": [
        "Tokenize ->\n",
        "Replace Tokens ->  \n",
        "Transform Cases ->\n",
        "Stem ->\n",
        "Filter Stopwords ->\n",
        "Filter Tokens by length ->\n",
        "Generate n-grams \n"
      ]
    },
    {
      "cell_type": "code",
      "metadata": {
        "id": "e3sB5tZhYcvX",
        "colab_type": "code",
        "colab": {}
      },
      "source": [
        "y = train_df['label']\n",
        "word_train_data = train_df['SMS']"
      ],
      "execution_count": 0,
      "outputs": []
    },
    {
      "cell_type": "code",
      "metadata": {
        "id": "o_nwGRLzXwyl",
        "colab_type": "code",
        "colab": {}
      },
      "source": [
        "from sklearn.feature_extraction.text import TfidfVectorizer\n",
        "\n",
        "vectorizer = TfidfVectorizer( stop_words=\"english\", lowercase=True, ngram_range=(2,2))\n",
        "word_vector = vectorizer.fit_transform(word_train_data)"
      ],
      "execution_count": 0,
      "outputs": []
    },
    {
      "cell_type": "code",
      "metadata": {
        "id": "CxuPmj50Y6_t",
        "colab_type": "code",
        "colab": {
          "base_uri": "https://localhost:8080/",
          "height": 34
        },
        "outputId": "f9ee81a5-ade6-470a-f598-0abd3bb78734"
      },
      "source": [
        "len(vectorizer.get_feature_names())"
      ],
      "execution_count": 47,
      "outputs": [
        {
          "output_type": "execute_result",
          "data": {
            "text/plain": [
              "21655"
            ]
          },
          "metadata": {
            "tags": []
          },
          "execution_count": 47
        }
      ]
    },
    {
      "cell_type": "code",
      "metadata": {
        "id": "21bxRIiCY7yh",
        "colab_type": "code",
        "colab": {
          "base_uri": "https://localhost:8080/",
          "height": 105
        },
        "outputId": "1feb6144-3448-483e-b404-06e955999bb8"
      },
      "source": [
        "vectorizer.get_feature_names()[10:15]"
      ],
      "execution_count": 48,
      "outputs": [
        {
          "output_type": "execute_result",
          "data": {
            "text/plain": [
              "['0089 digits',\n",
              " '0121 2025050',\n",
              " '01223585236 xx',\n",
              " '01223585334 cum',\n",
              " '0125698789 ring']"
            ]
          },
          "metadata": {
            "tags": []
          },
          "execution_count": 48
        }
      ]
    },
    {
      "cell_type": "code",
      "metadata": {
        "id": "TtQ21NQ4D6Aw",
        "colab_type": "code",
        "colab": {
          "base_uri": "https://localhost:8080/",
          "height": 34
        },
        "outputId": "ec18694b-be88-4d0c-e5af-84a5e341c25e"
      },
      "source": [
        "word_vector.shape"
      ],
      "execution_count": 49,
      "outputs": [
        {
          "output_type": "execute_result",
          "data": {
            "text/plain": [
              "(3902, 21655)"
            ]
          },
          "metadata": {
            "tags": []
          },
          "execution_count": 49
        }
      ]
    },
    {
      "cell_type": "code",
      "metadata": {
        "id": "finzI9dZgt4P",
        "colab_type": "code",
        "colab": {
          "base_uri": "https://localhost:8080/",
          "height": 34
        },
        "outputId": "0c2a4423-817b-45b7-fc73-22392a7c712b"
      },
      "source": [
        "y.shape"
      ],
      "execution_count": 50,
      "outputs": [
        {
          "output_type": "execute_result",
          "data": {
            "text/plain": [
              "(3902,)"
            ]
          },
          "metadata": {
            "tags": []
          },
          "execution_count": 50
        }
      ]
    },
    {
      "cell_type": "code",
      "metadata": {
        "id": "hyR3cCBdiEok",
        "colab_type": "code",
        "colab": {}
      },
      "source": [
        "y_test = test_df['label']\n",
        "word_test_data = test_df['SMS']\n",
        "\n",
        "vectorizer2 = TfidfVectorizer( stop_words=\"english\", lowercase=True, ngram_range=(2,2), vocabulary = vectorizer.get_feature_names())\n",
        "word_vector_test = vectorizer2.fit_transform(word_test_data)"
      ],
      "execution_count": 0,
      "outputs": []
    },
    {
      "cell_type": "code",
      "metadata": {
        "id": "vkZwGkfak7-1",
        "colab_type": "code",
        "colab": {
          "base_uri": "https://localhost:8080/",
          "height": 34
        },
        "outputId": "9b2f76d1-9c82-4c30-c997-d2e108e79aec"
      },
      "source": [
        "word_vector_test.shape"
      ],
      "execution_count": 52,
      "outputs": [
        {
          "output_type": "execute_result",
          "data": {
            "text/plain": [
              "(1673, 21655)"
            ]
          },
          "metadata": {
            "tags": []
          },
          "execution_count": 52
        }
      ]
    },
    {
      "cell_type": "code",
      "metadata": {
        "id": "t2NMt-ZJgFrR",
        "colab_type": "code",
        "colab": {
          "base_uri": "https://localhost:8080/",
          "height": 70
        },
        "outputId": "125cbf02-8007-4b5d-9d9a-ceea84efa125"
      },
      "source": [
        "from sklearn.neighbors import KNeighborsClassifier\n",
        "\n",
        "\n",
        "n_neighbors = 3\n",
        "\n",
        "clf = KNeighborsClassifier(n_neighbors)\n",
        "clf.fit(word_vector, y)"
      ],
      "execution_count": 65,
      "outputs": [
        {
          "output_type": "execute_result",
          "data": {
            "text/plain": [
              "KNeighborsClassifier(algorithm='auto', leaf_size=30, metric='minkowski',\n",
              "                     metric_params=None, n_jobs=None, n_neighbors=3, p=2,\n",
              "                     weights='uniform')"
            ]
          },
          "metadata": {
            "tags": []
          },
          "execution_count": 65
        }
      ]
    },
    {
      "cell_type": "code",
      "metadata": {
        "id": "fn6-0Q_mwGXl",
        "colab_type": "code",
        "colab": {
          "base_uri": "https://localhost:8080/",
          "height": 34
        },
        "outputId": "2b2052cb-1450-4972-e336-fbed80b5b2d3"
      },
      "source": [
        "from sklearn.metrics import accuracy_score, confusion_matrix\n",
        "Z = clf.predict(word_vector)\n",
        "accuracy_score(y, Z)"
      ],
      "execution_count": 66,
      "outputs": [
        {
          "output_type": "execute_result",
          "data": {
            "text/plain": [
              "0.9323423885187083"
            ]
          },
          "metadata": {
            "tags": []
          },
          "execution_count": 66
        }
      ]
    },
    {
      "cell_type": "code",
      "metadata": {
        "id": "wbB7ryGHwL20",
        "colab_type": "code",
        "colab": {
          "base_uri": "https://localhost:8080/",
          "height": 52
        },
        "outputId": "7d11ee62-79df-4aeb-d65d-81ff26afce46"
      },
      "source": [
        "confusion_matrix(y, Z)"
      ],
      "execution_count": 67,
      "outputs": [
        {
          "output_type": "execute_result",
          "data": {
            "text/plain": [
              "array([[3382,    0],\n",
              "       [ 264,  256]])"
            ]
          },
          "metadata": {
            "tags": []
          },
          "execution_count": 67
        }
      ]
    },
    {
      "cell_type": "code",
      "metadata": {
        "id": "pYlmCn5sj6qe",
        "colab_type": "code",
        "colab": {
          "base_uri": "https://localhost:8080/",
          "height": 34
        },
        "outputId": "af88ce0e-8fc5-48f1-87d9-5706ec97a262"
      },
      "source": [
        "from sklearn.metrics import accuracy_score, confusion_matrix\n",
        "Z = clf.predict(word_vector_test)\n",
        "accuracy_score(y_test, Z)"
      ],
      "execution_count": 68,
      "outputs": [
        {
          "output_type": "execute_result",
          "data": {
            "text/plain": [
              "0.9043634190077705"
            ]
          },
          "metadata": {
            "tags": []
          },
          "execution_count": 68
        }
      ]
    },
    {
      "cell_type": "code",
      "metadata": {
        "id": "-1zL3IfVvk_D",
        "colab_type": "code",
        "colab": {
          "base_uri": "https://localhost:8080/",
          "height": 52
        },
        "outputId": "e5914560-082e-45a2-e06b-0f4ae9abb2da"
      },
      "source": [
        "confusion_matrix(y_test, Z)"
      ],
      "execution_count": 69,
      "outputs": [
        {
          "output_type": "execute_result",
          "data": {
            "text/plain": [
              "array([[1446,    0],\n",
              "       [ 160,   67]])"
            ]
          },
          "metadata": {
            "tags": []
          },
          "execution_count": 69
        }
      ]
    }
  ]
}